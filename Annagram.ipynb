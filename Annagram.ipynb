{
 "cells": [
  {
   "cell_type": "code",
   "execution_count": null,
   "id": "0d283945",
   "metadata": {},
   "outputs": [],
   "source": [
    "\"write a function that will find all the anagrams of a word froma list. You will be given two inputs a word and an array with words.You should return an array of all the anagrams or an empty array if there are none.\""
   ]
  },
  {
   "cell_type": "code",
   "execution_count": 2,
   "id": "0e8509a6",
   "metadata": {},
   "outputs": [],
   "source": [
    "#importing packages\n",
    "import pandas as pd\n",
    "import numpy as np"
   ]
  },
  {
   "cell_type": "code",
   "execution_count": 3,
   "id": "74ee1c5a",
   "metadata": {},
   "outputs": [],
   "source": [
    "test_list=['aabb','abcd','bbaa','dada']"
   ]
  },
  {
   "cell_type": "code",
   "execution_count": 41,
   "id": "154006ca",
   "metadata": {},
   "outputs": [],
   "source": [
    "def annagrams(x,y):\n",
    "    l=[]\n",
    "    for i in x:\n",
    "        if sorted(list(i))==sorted(list(y)):\n",
    "            l.append(i)\n",
    "    else:\n",
    "        pass\n",
    "    print(l,y)\n",
    "        "
   ]
  },
  {
   "cell_type": "code",
   "execution_count": 42,
   "id": "ac94389c",
   "metadata": {},
   "outputs": [
    {
     "name": "stdout",
     "output_type": "stream",
     "text": [
      "['aabb', 'bbaa'] abba\n"
     ]
    }
   ],
   "source": [
    "annagrams(test_list,'abba')"
   ]
  },
  {
   "cell_type": "code",
   "execution_count": 4,
   "id": "4658b977",
   "metadata": {},
   "outputs": [
    {
     "name": "stdout",
     "output_type": "stream",
     "text": [
      "great\n",
      "eh\n",
      "okay\n",
      "suck my dick\n",
      "suck my dick\n"
     ]
    }
   ],
   "source": [
    "for x in [95,50,70,26,0]:    \n",
    "    if x in range(90,100):\n",
    "        print(\"great\")\n",
    "    elif x in range(70,90):\n",
    "        print(\"okay\")\n",
    "    elif x in range(33,70):\n",
    "        print(\"eh\")\n",
    "    else:\n",
    "        print(\"suck my dick\")"
   ]
  },
  {
   "cell_type": "code",
   "execution_count": null,
   "id": "91c67ad6",
   "metadata": {},
   "outputs": [],
   "source": []
  }
 ],
 "metadata": {
  "kernelspec": {
   "display_name": "Python 3",
   "language": "python",
   "name": "python3"
  },
  "language_info": {
   "codemirror_mode": {
    "name": "ipython",
    "version": 3
   },
   "file_extension": ".py",
   "mimetype": "text/x-python",
   "name": "python",
   "nbconvert_exporter": "python",
   "pygments_lexer": "ipython3",
   "version": "3.8.8"
  }
 },
 "nbformat": 4,
 "nbformat_minor": 5
}
