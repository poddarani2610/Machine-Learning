{
 "cells": [
  {
   "cell_type": "code",
   "execution_count": 1,
   "id": "dd8e00a7",
   "metadata": {},
   "outputs": [],
   "source": [
    "#Problem\n",
    "\"\"\"Given a list and number N, create a new list that contains each number of list at most N times wihtout reordering. For Example if N=2, and the input list is [1,2,3,1,2,1,2,3], the output should be [1,2,3,1,2,3]\n",
    "\"\"\"\n",
    "\n",
    "#Solution\n",
    "# step 1: checking if the count of the occurence is less than N\n",
    "# step 2: If the value of the occurence is greater than the N, then drop that element using reverse and remove function as we dont want to affect the ordering of the list\n",
    "\n"
   ]
  },
  {
   "cell_type": "code",
   "execution_count": 2,
   "id": "174271b2",
   "metadata": {},
   "outputs": [],
   "source": [
    "import numpy as np\n",
    "import pandas as pd\n",
    "\n"
   ]
  },
  {
   "cell_type": "code",
   "execution_count": 3,
   "id": "2940d3ad",
   "metadata": {},
   "outputs": [],
   "source": [
    "# creating a test list\n",
    "n=[1,2,3,1,2,1,2,3,1,2,3]\n",
    "\n"
   ]
  },
  {
   "cell_type": "code",
   "execution_count": 4,
   "id": "9b8f1002",
   "metadata": {},
   "outputs": [
    {
     "name": "stdout",
     "output_type": "stream",
     "text": [
      "[1, 2, 3, 1, 2, 1, 2, 3, 2, 3]\n",
      "[1, 2, 3, 1, 2, 2, 3, 2, 3]\n",
      "[1, 2, 3, 1, 2, 2, 3, 3]\n",
      "[1, 2, 3, 1, 2, 3, 3]\n",
      "[1, 2, 3, 1, 2, 3]\n"
     ]
    }
   ],
   "source": [
    "# running a loop across all the elements in the list where depending upon the count of the number of occurence, list is trimmed.\n",
    "for i in np.unique(n):\n",
    "    while n.count(i)>2:\n",
    "        n.reverse()\n",
    "        n.remove(i)\n",
    "        n.reverse()\n",
    "        print(n)"
   ]
  },
  {
   "cell_type": "code",
   "execution_count": 5,
   "id": "ffddedb3",
   "metadata": {},
   "outputs": [],
   "source": [
    "# writing a function for the same\n",
    "def test(x,y):\n",
    "    for i in np.unique(x):\n",
    "        while n.count(i)>y:\n",
    "            n.reverse()\n",
    "            n.remove(i)\n",
    "            n.reverse()\n",
    "    print(x)"
   ]
  },
  {
   "cell_type": "code",
   "execution_count": null,
   "id": "b8c1af28",
   "metadata": {},
   "outputs": [],
   "source": [
    "test(n,2)"
   ]
  }
 ],
 "metadata": {
  "kernelspec": {
   "display_name": "Python 3",
   "language": "python",
   "name": "python3"
  },
  "language_info": {
   "codemirror_mode": {
    "name": "ipython",
    "version": 3
   },
   "file_extension": ".py",
   "mimetype": "text/x-python",
   "name": "python",
   "nbconvert_exporter": "python",
   "pygments_lexer": "ipython3",
   "version": "3.8.8"
  }
 },
 "nbformat": 4,
 "nbformat_minor": 5
}
